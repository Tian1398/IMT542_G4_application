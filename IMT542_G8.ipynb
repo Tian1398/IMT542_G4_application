{
  "nbformat": 4,
  "nbformat_minor": 0,
  "metadata": {
    "colab": {
      "provenance": [],
      "toc_visible": true,
      "authorship_tag": "ABX9TyMY4RhDZfPlvI36H8lf0aVd",
      "include_colab_link": true
    },
    "kernelspec": {
      "name": "python3",
      "display_name": "Python 3"
    },
    "language_info": {
      "name": "python"
    }
  },
  "cells": [
    {
      "cell_type": "markdown",
      "metadata": {
        "id": "view-in-github",
        "colab_type": "text"
      },
      "source": [
        "<a href=\"https://colab.research.google.com/github/Tian1398/IMT542_G4_application/blob/main/IMT542_G8.ipynb\" target=\"_parent\"><img src=\"https://colab.research.google.com/assets/colab-badge.svg\" alt=\"Open In Colab\"/></a>"
      ]
    },
    {
      "cell_type": "markdown",
      "source": [
        "#1 Describe the use, audience and access of the project information"
      ],
      "metadata": {
        "id": "antnUep4VzGc"
      }
    },
    {
      "cell_type": "markdown",
      "source": [
        "This project aims to streamline the extraction and processing of data from Microsoft Teams, converting it into a format suitable for organizational network analysis on the Polinode software. By automating this process, it can help people better understand human interactions from their communication data.\n",
        "The primary use of this pipeline is to facilitate the analysis of communication patterns and organizational dynamics within a company. The target audience includes data analysts, organizational researchers, HRs, or practically anybody who are interested in understanding and enhancing workflows and efficiency.\n",
        "Access to the data will be restricted to people who have valid Teams accounts and are authorized to access it."
      ],
      "metadata": {
        "id": "GMszoHZ0VXvG"
      }
    },
    {
      "cell_type": "markdown",
      "source": [
        "# 2 Methodology: how to generate the information structure"
      ],
      "metadata": {
        "id": "iS97zNK0WQrz"
      }
    },
    {
      "cell_type": "markdown",
      "source": [
        "Data Extraction\n",
        "*   Use the user ID and passcode to authenticate and acquire an access token from Microsoft.\n",
        "*   Use the access token to make requests to the Microsoft Graph API to retrieve Teams data.\n",
        "\n",
        "Data Transformation\n",
        "*   Write Python code to load, clean, manipulate, and output data according to Polinode's requirements.\n",
        "*   Perform validation steps to ensure basic data requirements are met before feeding the original data to the transformation.\n",
        "*   Include documentation to improve process transparency and make it easier for troubleshooting."
      ],
      "metadata": {
        "id": "9b8132wtV76D"
      }
    },
    {
      "cell_type": "markdown",
      "source": [
        "# 3 Access: steps for a user to access the information"
      ],
      "metadata": {
        "id": "kvlvEBP4WlTv"
      }
    },
    {
      "cell_type": "markdown",
      "source": [
        "The code for data extraction and data transformation will be published on GitHub. The repository will be free and open for public access. Users are welcomed to review, copy, and edit the files to obtain their own Microsoft Teams (meta)data and run the code individually in their local environment. If successful, users will expect to be able to download the transformed data in their desired format (csv), so it is ready for Polinode ONA analysis."
      ],
      "metadata": {
        "id": "kXWl0udjWhXC"
      }
    },
    {
      "cell_type": "markdown",
      "source": [
        "# 4 Structure: information schema"
      ],
      "metadata": {
        "id": "K-bURSI4W2fZ"
      }
    },
    {
      "cell_type": "markdown",
      "source": [
        "In general, the original Microsoft Teams data contain data for teams, channels (within each team), and messages (within each channel).\n",
        "\n",
        "*   Teams: id, displayName, description, and createdDateTime.\n",
        "*   Channels: id, displayName, description, and createdDateTime.\n",
        "*   Messages: id, createdDateTime, sender information (from), and the message body content (body)."
      ],
      "metadata": {
        "id": "8sv--CduWzDd"
      }
    },
    {
      "cell_type": "markdown",
      "source": [
        "# 5 Example"
      ],
      "metadata": {
        "id": "l15tpIH6W_Na"
      }
    },
    {
      "cell_type": "markdown",
      "source": [
        "Show example request and response for at least one intended use of information that demonstrates access and structure. So far, I only have the data transformation below, and I am still working on data extraction section."
      ],
      "metadata": {
        "id": "BrbvJVUtXCwl"
      }
    },
    {
      "cell_type": "code",
      "execution_count": 7,
      "metadata": {
        "id": "ouWFf3onVPpv"
      },
      "outputs": [],
      "source": [
        "# load packages\n",
        "import pandas as pd\n",
        "import numpy as np\n",
        "import json\n",
        "import requests # for later API purpose"
      ]
    },
    {
      "cell_type": "code",
      "source": [
        "# sample Teams data\n",
        "teams_data = {\n",
        "  \"teams\": [\n",
        "    {\n",
        "      \"id\": \"team-id-1\",\n",
        "      \"displayName\": \"Team 1\",\n",
        "      \"channels\": [\n",
        "        {\n",
        "          \"id\": \"channel-id-1\",\n",
        "          \"displayName\": \"General\",\n",
        "          \"messages\": [\n",
        "            {\n",
        "              \"id\": \"message-id-1\",\n",
        "              \"createdDateTime\": \"2023-05-17T10:10:00Z\",\n",
        "              \"from\": {\n",
        "                \"user\": {\n",
        "                  \"id\": \"user-id-1\",\n",
        "                  \"displayName\": \"John Doe\",\n",
        "                  \"userPrincipalName\": \"john.doe@example.com\"\n",
        "                }\n",
        "              },\n",
        "              \"body\": {\n",
        "                \"content\": \"Hello, team! This is the first message.\"\n",
        "              }\n",
        "            },\n",
        "            {\n",
        "              \"id\": \"message-id-2\",\n",
        "              \"createdDateTime\": \"2023-05-17T10:12:00Z\",\n",
        "              \"from\": {\n",
        "                \"user\": {\n",
        "                  \"id\": \"user-id-2\",\n",
        "                  \"displayName\": \"Jane Smith\",\n",
        "                  \"userPrincipalName\": \"jane.smith@example.com\"\n",
        "                }\n",
        "              },\n",
        "              \"body\": {\n",
        "                \"content\": \"Hi John! Welcome to the team.\"\n",
        "              }\n",
        "            }\n",
        "          ]\n",
        "        }\n",
        "      ]\n",
        "    }\n",
        "  ]\n",
        "}"
      ],
      "metadata": {
        "id": "6pzt-uUsXg0A"
      },
      "execution_count": 8,
      "outputs": []
    },
    {
      "cell_type": "code",
      "source": [
        "nodes = {} # entity\n",
        "edges = [] # interactions\n",
        "\n",
        "for team in teams_data['teams']:\n",
        "    for channel in team['channels']:\n",
        "        for message in channel['messages']:\n",
        "            user = message['from']['user']\n",
        "            user_id = user['id']\n",
        "            if user_id not in nodes:\n",
        "                nodes[user_id] = {\n",
        "                    \"id\": user_id,\n",
        "                    \"displayName\": user['displayName'],\n",
        "                    \"userPrincipalName\": user['userPrincipalName']\n",
        "                }\n",
        "\n",
        "            # create edges\n",
        "            edge = {\n",
        "                \"source\": user_id,\n",
        "                \"target\": \"channel-general\",\n",
        "                \"timestamp\": message['createdDateTime']\n",
        "            }\n",
        "            edges.append(edge)\n",
        "\n",
        "nodes_list = list(nodes.values())\n",
        "\n",
        "# Print nodes and edges\n",
        "print(\"Nodes:\", json.dumps(nodes_list, indent=2))\n",
        "print(\"Edges:\", json.dumps(edges, indent=2))"
      ],
      "metadata": {
        "colab": {
          "base_uri": "https://localhost:8080/",
          "height": 0
        },
        "id": "i_eW36-aXlCM",
        "outputId": "70070c29-1bc3-4c09-cb1a-15cb2b16f2b4"
      },
      "execution_count": 9,
      "outputs": [
        {
          "output_type": "stream",
          "name": "stdout",
          "text": [
            "Nodes: [\n",
            "  {\n",
            "    \"id\": \"user-id-1\",\n",
            "    \"displayName\": \"John Doe\",\n",
            "    \"userPrincipalName\": \"john.doe@example.com\"\n",
            "  },\n",
            "  {\n",
            "    \"id\": \"user-id-2\",\n",
            "    \"displayName\": \"Jane Smith\",\n",
            "    \"userPrincipalName\": \"jane.smith@example.com\"\n",
            "  }\n",
            "]\n",
            "Edges: [\n",
            "  {\n",
            "    \"source\": \"user-id-1\",\n",
            "    \"target\": \"channel-general\",\n",
            "    \"timestamp\": \"2023-05-17T10:10:00Z\"\n",
            "  },\n",
            "  {\n",
            "    \"source\": \"user-id-2\",\n",
            "    \"target\": \"channel-general\",\n",
            "    \"timestamp\": \"2023-05-17T10:12:00Z\"\n",
            "  }\n",
            "]\n"
          ]
        }
      ]
    },
    {
      "cell_type": "code",
      "source": [
        "# convert nodes and edges to tables\n",
        "nodes_list = list(nodes.values())\n",
        "nodes_df = pd.DataFrame(nodes_list)\n",
        "nodes_df\n",
        "edges_df = pd.DataFrame(edges)\n",
        "edges_df"
      ],
      "metadata": {
        "colab": {
          "base_uri": "https://localhost:8080/",
          "height": 112
        },
        "id": "soKWqIJeXn3S",
        "outputId": "fe77e88b-3e3e-49cb-d552-e4a98cdf11bf"
      },
      "execution_count": 11,
      "outputs": [
        {
          "output_type": "execute_result",
          "data": {
            "text/plain": [
              "      source           target             timestamp\n",
              "0  user-id-1  channel-general  2023-05-17T10:10:00Z\n",
              "1  user-id-2  channel-general  2023-05-17T10:12:00Z"
            ],
            "text/html": [
              "\n",
              "  <div id=\"df-3943da4a-dd12-4c2e-90ce-ba881f84af78\" class=\"colab-df-container\">\n",
              "    <div>\n",
              "<style scoped>\n",
              "    .dataframe tbody tr th:only-of-type {\n",
              "        vertical-align: middle;\n",
              "    }\n",
              "\n",
              "    .dataframe tbody tr th {\n",
              "        vertical-align: top;\n",
              "    }\n",
              "\n",
              "    .dataframe thead th {\n",
              "        text-align: right;\n",
              "    }\n",
              "</style>\n",
              "<table border=\"1\" class=\"dataframe\">\n",
              "  <thead>\n",
              "    <tr style=\"text-align: right;\">\n",
              "      <th></th>\n",
              "      <th>source</th>\n",
              "      <th>target</th>\n",
              "      <th>timestamp</th>\n",
              "    </tr>\n",
              "  </thead>\n",
              "  <tbody>\n",
              "    <tr>\n",
              "      <th>0</th>\n",
              "      <td>user-id-1</td>\n",
              "      <td>channel-general</td>\n",
              "      <td>2023-05-17T10:10:00Z</td>\n",
              "    </tr>\n",
              "    <tr>\n",
              "      <th>1</th>\n",
              "      <td>user-id-2</td>\n",
              "      <td>channel-general</td>\n",
              "      <td>2023-05-17T10:12:00Z</td>\n",
              "    </tr>\n",
              "  </tbody>\n",
              "</table>\n",
              "</div>\n",
              "    <div class=\"colab-df-buttons\">\n",
              "\n",
              "  <div class=\"colab-df-container\">\n",
              "    <button class=\"colab-df-convert\" onclick=\"convertToInteractive('df-3943da4a-dd12-4c2e-90ce-ba881f84af78')\"\n",
              "            title=\"Convert this dataframe to an interactive table.\"\n",
              "            style=\"display:none;\">\n",
              "\n",
              "  <svg xmlns=\"http://www.w3.org/2000/svg\" height=\"24px\" viewBox=\"0 -960 960 960\">\n",
              "    <path d=\"M120-120v-720h720v720H120Zm60-500h600v-160H180v160Zm220 220h160v-160H400v160Zm0 220h160v-160H400v160ZM180-400h160v-160H180v160Zm440 0h160v-160H620v160ZM180-180h160v-160H180v160Zm440 0h160v-160H620v160Z\"/>\n",
              "  </svg>\n",
              "    </button>\n",
              "\n",
              "  <style>\n",
              "    .colab-df-container {\n",
              "      display:flex;\n",
              "      gap: 12px;\n",
              "    }\n",
              "\n",
              "    .colab-df-convert {\n",
              "      background-color: #E8F0FE;\n",
              "      border: none;\n",
              "      border-radius: 50%;\n",
              "      cursor: pointer;\n",
              "      display: none;\n",
              "      fill: #1967D2;\n",
              "      height: 32px;\n",
              "      padding: 0 0 0 0;\n",
              "      width: 32px;\n",
              "    }\n",
              "\n",
              "    .colab-df-convert:hover {\n",
              "      background-color: #E2EBFA;\n",
              "      box-shadow: 0px 1px 2px rgba(60, 64, 67, 0.3), 0px 1px 3px 1px rgba(60, 64, 67, 0.15);\n",
              "      fill: #174EA6;\n",
              "    }\n",
              "\n",
              "    .colab-df-buttons div {\n",
              "      margin-bottom: 4px;\n",
              "    }\n",
              "\n",
              "    [theme=dark] .colab-df-convert {\n",
              "      background-color: #3B4455;\n",
              "      fill: #D2E3FC;\n",
              "    }\n",
              "\n",
              "    [theme=dark] .colab-df-convert:hover {\n",
              "      background-color: #434B5C;\n",
              "      box-shadow: 0px 1px 3px 1px rgba(0, 0, 0, 0.15);\n",
              "      filter: drop-shadow(0px 1px 2px rgba(0, 0, 0, 0.3));\n",
              "      fill: #FFFFFF;\n",
              "    }\n",
              "  </style>\n",
              "\n",
              "    <script>\n",
              "      const buttonEl =\n",
              "        document.querySelector('#df-3943da4a-dd12-4c2e-90ce-ba881f84af78 button.colab-df-convert');\n",
              "      buttonEl.style.display =\n",
              "        google.colab.kernel.accessAllowed ? 'block' : 'none';\n",
              "\n",
              "      async function convertToInteractive(key) {\n",
              "        const element = document.querySelector('#df-3943da4a-dd12-4c2e-90ce-ba881f84af78');\n",
              "        const dataTable =\n",
              "          await google.colab.kernel.invokeFunction('convertToInteractive',\n",
              "                                                    [key], {});\n",
              "        if (!dataTable) return;\n",
              "\n",
              "        const docLinkHtml = 'Like what you see? Visit the ' +\n",
              "          '<a target=\"_blank\" href=https://colab.research.google.com/notebooks/data_table.ipynb>data table notebook</a>'\n",
              "          + ' to learn more about interactive tables.';\n",
              "        element.innerHTML = '';\n",
              "        dataTable['output_type'] = 'display_data';\n",
              "        await google.colab.output.renderOutput(dataTable, element);\n",
              "        const docLink = document.createElement('div');\n",
              "        docLink.innerHTML = docLinkHtml;\n",
              "        element.appendChild(docLink);\n",
              "      }\n",
              "    </script>\n",
              "  </div>\n",
              "\n",
              "\n",
              "<div id=\"df-e74e7635-d3d2-4a8e-a524-75da73125a0e\">\n",
              "  <button class=\"colab-df-quickchart\" onclick=\"quickchart('df-e74e7635-d3d2-4a8e-a524-75da73125a0e')\"\n",
              "            title=\"Suggest charts\"\n",
              "            style=\"display:none;\">\n",
              "\n",
              "<svg xmlns=\"http://www.w3.org/2000/svg\" height=\"24px\"viewBox=\"0 0 24 24\"\n",
              "     width=\"24px\">\n",
              "    <g>\n",
              "        <path d=\"M19 3H5c-1.1 0-2 .9-2 2v14c0 1.1.9 2 2 2h14c1.1 0 2-.9 2-2V5c0-1.1-.9-2-2-2zM9 17H7v-7h2v7zm4 0h-2V7h2v10zm4 0h-2v-4h2v4z\"/>\n",
              "    </g>\n",
              "</svg>\n",
              "  </button>\n",
              "\n",
              "<style>\n",
              "  .colab-df-quickchart {\n",
              "      --bg-color: #E8F0FE;\n",
              "      --fill-color: #1967D2;\n",
              "      --hover-bg-color: #E2EBFA;\n",
              "      --hover-fill-color: #174EA6;\n",
              "      --disabled-fill-color: #AAA;\n",
              "      --disabled-bg-color: #DDD;\n",
              "  }\n",
              "\n",
              "  [theme=dark] .colab-df-quickchart {\n",
              "      --bg-color: #3B4455;\n",
              "      --fill-color: #D2E3FC;\n",
              "      --hover-bg-color: #434B5C;\n",
              "      --hover-fill-color: #FFFFFF;\n",
              "      --disabled-bg-color: #3B4455;\n",
              "      --disabled-fill-color: #666;\n",
              "  }\n",
              "\n",
              "  .colab-df-quickchart {\n",
              "    background-color: var(--bg-color);\n",
              "    border: none;\n",
              "    border-radius: 50%;\n",
              "    cursor: pointer;\n",
              "    display: none;\n",
              "    fill: var(--fill-color);\n",
              "    height: 32px;\n",
              "    padding: 0;\n",
              "    width: 32px;\n",
              "  }\n",
              "\n",
              "  .colab-df-quickchart:hover {\n",
              "    background-color: var(--hover-bg-color);\n",
              "    box-shadow: 0 1px 2px rgba(60, 64, 67, 0.3), 0 1px 3px 1px rgba(60, 64, 67, 0.15);\n",
              "    fill: var(--button-hover-fill-color);\n",
              "  }\n",
              "\n",
              "  .colab-df-quickchart-complete:disabled,\n",
              "  .colab-df-quickchart-complete:disabled:hover {\n",
              "    background-color: var(--disabled-bg-color);\n",
              "    fill: var(--disabled-fill-color);\n",
              "    box-shadow: none;\n",
              "  }\n",
              "\n",
              "  .colab-df-spinner {\n",
              "    border: 2px solid var(--fill-color);\n",
              "    border-color: transparent;\n",
              "    border-bottom-color: var(--fill-color);\n",
              "    animation:\n",
              "      spin 1s steps(1) infinite;\n",
              "  }\n",
              "\n",
              "  @keyframes spin {\n",
              "    0% {\n",
              "      border-color: transparent;\n",
              "      border-bottom-color: var(--fill-color);\n",
              "      border-left-color: var(--fill-color);\n",
              "    }\n",
              "    20% {\n",
              "      border-color: transparent;\n",
              "      border-left-color: var(--fill-color);\n",
              "      border-top-color: var(--fill-color);\n",
              "    }\n",
              "    30% {\n",
              "      border-color: transparent;\n",
              "      border-left-color: var(--fill-color);\n",
              "      border-top-color: var(--fill-color);\n",
              "      border-right-color: var(--fill-color);\n",
              "    }\n",
              "    40% {\n",
              "      border-color: transparent;\n",
              "      border-right-color: var(--fill-color);\n",
              "      border-top-color: var(--fill-color);\n",
              "    }\n",
              "    60% {\n",
              "      border-color: transparent;\n",
              "      border-right-color: var(--fill-color);\n",
              "    }\n",
              "    80% {\n",
              "      border-color: transparent;\n",
              "      border-right-color: var(--fill-color);\n",
              "      border-bottom-color: var(--fill-color);\n",
              "    }\n",
              "    90% {\n",
              "      border-color: transparent;\n",
              "      border-bottom-color: var(--fill-color);\n",
              "    }\n",
              "  }\n",
              "</style>\n",
              "\n",
              "  <script>\n",
              "    async function quickchart(key) {\n",
              "      const quickchartButtonEl =\n",
              "        document.querySelector('#' + key + ' button');\n",
              "      quickchartButtonEl.disabled = true;  // To prevent multiple clicks.\n",
              "      quickchartButtonEl.classList.add('colab-df-spinner');\n",
              "      try {\n",
              "        const charts = await google.colab.kernel.invokeFunction(\n",
              "            'suggestCharts', [key], {});\n",
              "      } catch (error) {\n",
              "        console.error('Error during call to suggestCharts:', error);\n",
              "      }\n",
              "      quickchartButtonEl.classList.remove('colab-df-spinner');\n",
              "      quickchartButtonEl.classList.add('colab-df-quickchart-complete');\n",
              "    }\n",
              "    (() => {\n",
              "      let quickchartButtonEl =\n",
              "        document.querySelector('#df-e74e7635-d3d2-4a8e-a524-75da73125a0e button');\n",
              "      quickchartButtonEl.style.display =\n",
              "        google.colab.kernel.accessAllowed ? 'block' : 'none';\n",
              "    })();\n",
              "  </script>\n",
              "</div>\n",
              "    </div>\n",
              "  </div>\n"
            ],
            "application/vnd.google.colaboratory.intrinsic+json": {
              "type": "dataframe",
              "variable_name": "edges_df",
              "summary": "{\n  \"name\": \"edges_df\",\n  \"rows\": 2,\n  \"fields\": [\n    {\n      \"column\": \"source\",\n      \"properties\": {\n        \"dtype\": \"string\",\n        \"num_unique_values\": 2,\n        \"samples\": [\n          \"user-id-2\",\n          \"user-id-1\"\n        ],\n        \"semantic_type\": \"\",\n        \"description\": \"\"\n      }\n    },\n    {\n      \"column\": \"target\",\n      \"properties\": {\n        \"dtype\": \"string\",\n        \"num_unique_values\": 1,\n        \"samples\": [\n          \"channel-general\"\n        ],\n        \"semantic_type\": \"\",\n        \"description\": \"\"\n      }\n    },\n    {\n      \"column\": \"timestamp\",\n      \"properties\": {\n        \"dtype\": \"object\",\n        \"num_unique_values\": 2,\n        \"samples\": [\n          \"2023-05-17T10:12:00Z\"\n        ],\n        \"semantic_type\": \"\",\n        \"description\": \"\"\n      }\n    }\n  ]\n}"
            }
          },
          "metadata": {},
          "execution_count": 11
        }
      ]
    }
  ]
}